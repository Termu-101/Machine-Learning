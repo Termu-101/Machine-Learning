{
  "nbformat": 4,
  "nbformat_minor": 0,
  "metadata": {
    "colab": {
      "name": "Credit Card Fraud Detection.ipynb",
      "provenance": [],
      "authorship_tag": "ABX9TyMFgDKcggUwdiJd5UqYgSEd"
    },
    "kernelspec": {
      "name": "python3",
      "display_name": "Python 3"
    },
    "language_info": {
      "name": "python"
    }
  },
  "cells": [
    {
      "cell_type": "code",
      "execution_count": null,
      "metadata": {
        "id": "onBepgAOWNYq"
      },
      "outputs": [],
      "source": [
        "# Importing Dependancies\n",
        "import numpy as np\n",
        "import pandas as pd\n",
        "import matplotlib.pyplot as plt\n",
        "import seaborn as sns\n",
        "from sklearn.model_selection import train_test_split\n",
        "from sklearn.linear_model import LogisticRegression\n",
        "from sklearn.metrics import accuracy_score"
      ]
    },
    {
      "cell_type": "code",
      "source": [
        "# Importing dataset\n",
        "cc_dataset = pd.read_csv('/content/drive/MyDrive/credit_data.csv')"
      ],
      "metadata": {
        "id": "hotMNwP-XHwE"
      },
      "execution_count": null,
      "outputs": []
    },
    {
      "cell_type": "code",
      "source": [
        "cc_dataset.head()"
      ],
      "metadata": {
        "colab": {
          "base_uri": "https://localhost:8080/",
          "height": 300
        },
        "id": "pp_9_3guXTLc",
        "outputId": "3b5d3dbb-920c-4215-e51f-41e3631eb19d"
      },
      "execution_count": null,
      "outputs": [
        {
          "output_type": "execute_result",
          "data": {
            "text/plain": [
              "   Time        V1        V2        V3        V4        V5        V6        V7  \\\n",
              "0   0.0 -1.359807 -0.072781  2.536347  1.378155 -0.338321  0.462388  0.239599   \n",
              "1   0.0  1.191857  0.266151  0.166480  0.448154  0.060018 -0.082361 -0.078803   \n",
              "2   1.0 -1.358354 -1.340163  1.773209  0.379780 -0.503198  1.800499  0.791461   \n",
              "3   1.0 -0.966272 -0.185226  1.792993 -0.863291 -0.010309  1.247203  0.237609   \n",
              "4   2.0 -1.158233  0.877737  1.548718  0.403034 -0.407193  0.095921  0.592941   \n",
              "\n",
              "         V8        V9  ...       V21       V22       V23       V24       V25  \\\n",
              "0  0.098698  0.363787  ... -0.018307  0.277838 -0.110474  0.066928  0.128539   \n",
              "1  0.085102 -0.255425  ... -0.225775 -0.638672  0.101288 -0.339846  0.167170   \n",
              "2  0.247676 -1.514654  ...  0.247998  0.771679  0.909412 -0.689281 -0.327642   \n",
              "3  0.377436 -1.387024  ... -0.108300  0.005274 -0.190321 -1.175575  0.647376   \n",
              "4 -0.270533  0.817739  ... -0.009431  0.798278 -0.137458  0.141267 -0.206010   \n",
              "\n",
              "        V26       V27       V28  Amount  Class  \n",
              "0 -0.189115  0.133558 -0.021053  149.62      0  \n",
              "1  0.125895 -0.008983  0.014724    2.69      0  \n",
              "2 -0.139097 -0.055353 -0.059752  378.66      0  \n",
              "3 -0.221929  0.062723  0.061458  123.50      0  \n",
              "4  0.502292  0.219422  0.215153   69.99      0  \n",
              "\n",
              "[5 rows x 31 columns]"
            ],
            "text/html": [
              "\n",
              "  <div id=\"df-c86af794-d8d3-4574-a25e-10f47366cb2f\">\n",
              "    <div class=\"colab-df-container\">\n",
              "      <div>\n",
              "<style scoped>\n",
              "    .dataframe tbody tr th:only-of-type {\n",
              "        vertical-align: middle;\n",
              "    }\n",
              "\n",
              "    .dataframe tbody tr th {\n",
              "        vertical-align: top;\n",
              "    }\n",
              "\n",
              "    .dataframe thead th {\n",
              "        text-align: right;\n",
              "    }\n",
              "</style>\n",
              "<table border=\"1\" class=\"dataframe\">\n",
              "  <thead>\n",
              "    <tr style=\"text-align: right;\">\n",
              "      <th></th>\n",
              "      <th>Time</th>\n",
              "      <th>V1</th>\n",
              "      <th>V2</th>\n",
              "      <th>V3</th>\n",
              "      <th>V4</th>\n",
              "      <th>V5</th>\n",
              "      <th>V6</th>\n",
              "      <th>V7</th>\n",
              "      <th>V8</th>\n",
              "      <th>V9</th>\n",
              "      <th>...</th>\n",
              "      <th>V21</th>\n",
              "      <th>V22</th>\n",
              "      <th>V23</th>\n",
              "      <th>V24</th>\n",
              "      <th>V25</th>\n",
              "      <th>V26</th>\n",
              "      <th>V27</th>\n",
              "      <th>V28</th>\n",
              "      <th>Amount</th>\n",
              "      <th>Class</th>\n",
              "    </tr>\n",
              "  </thead>\n",
              "  <tbody>\n",
              "    <tr>\n",
              "      <th>0</th>\n",
              "      <td>0.0</td>\n",
              "      <td>-1.359807</td>\n",
              "      <td>-0.072781</td>\n",
              "      <td>2.536347</td>\n",
              "      <td>1.378155</td>\n",
              "      <td>-0.338321</td>\n",
              "      <td>0.462388</td>\n",
              "      <td>0.239599</td>\n",
              "      <td>0.098698</td>\n",
              "      <td>0.363787</td>\n",
              "      <td>...</td>\n",
              "      <td>-0.018307</td>\n",
              "      <td>0.277838</td>\n",
              "      <td>-0.110474</td>\n",
              "      <td>0.066928</td>\n",
              "      <td>0.128539</td>\n",
              "      <td>-0.189115</td>\n",
              "      <td>0.133558</td>\n",
              "      <td>-0.021053</td>\n",
              "      <td>149.62</td>\n",
              "      <td>0</td>\n",
              "    </tr>\n",
              "    <tr>\n",
              "      <th>1</th>\n",
              "      <td>0.0</td>\n",
              "      <td>1.191857</td>\n",
              "      <td>0.266151</td>\n",
              "      <td>0.166480</td>\n",
              "      <td>0.448154</td>\n",
              "      <td>0.060018</td>\n",
              "      <td>-0.082361</td>\n",
              "      <td>-0.078803</td>\n",
              "      <td>0.085102</td>\n",
              "      <td>-0.255425</td>\n",
              "      <td>...</td>\n",
              "      <td>-0.225775</td>\n",
              "      <td>-0.638672</td>\n",
              "      <td>0.101288</td>\n",
              "      <td>-0.339846</td>\n",
              "      <td>0.167170</td>\n",
              "      <td>0.125895</td>\n",
              "      <td>-0.008983</td>\n",
              "      <td>0.014724</td>\n",
              "      <td>2.69</td>\n",
              "      <td>0</td>\n",
              "    </tr>\n",
              "    <tr>\n",
              "      <th>2</th>\n",
              "      <td>1.0</td>\n",
              "      <td>-1.358354</td>\n",
              "      <td>-1.340163</td>\n",
              "      <td>1.773209</td>\n",
              "      <td>0.379780</td>\n",
              "      <td>-0.503198</td>\n",
              "      <td>1.800499</td>\n",
              "      <td>0.791461</td>\n",
              "      <td>0.247676</td>\n",
              "      <td>-1.514654</td>\n",
              "      <td>...</td>\n",
              "      <td>0.247998</td>\n",
              "      <td>0.771679</td>\n",
              "      <td>0.909412</td>\n",
              "      <td>-0.689281</td>\n",
              "      <td>-0.327642</td>\n",
              "      <td>-0.139097</td>\n",
              "      <td>-0.055353</td>\n",
              "      <td>-0.059752</td>\n",
              "      <td>378.66</td>\n",
              "      <td>0</td>\n",
              "    </tr>\n",
              "    <tr>\n",
              "      <th>3</th>\n",
              "      <td>1.0</td>\n",
              "      <td>-0.966272</td>\n",
              "      <td>-0.185226</td>\n",
              "      <td>1.792993</td>\n",
              "      <td>-0.863291</td>\n",
              "      <td>-0.010309</td>\n",
              "      <td>1.247203</td>\n",
              "      <td>0.237609</td>\n",
              "      <td>0.377436</td>\n",
              "      <td>-1.387024</td>\n",
              "      <td>...</td>\n",
              "      <td>-0.108300</td>\n",
              "      <td>0.005274</td>\n",
              "      <td>-0.190321</td>\n",
              "      <td>-1.175575</td>\n",
              "      <td>0.647376</td>\n",
              "      <td>-0.221929</td>\n",
              "      <td>0.062723</td>\n",
              "      <td>0.061458</td>\n",
              "      <td>123.50</td>\n",
              "      <td>0</td>\n",
              "    </tr>\n",
              "    <tr>\n",
              "      <th>4</th>\n",
              "      <td>2.0</td>\n",
              "      <td>-1.158233</td>\n",
              "      <td>0.877737</td>\n",
              "      <td>1.548718</td>\n",
              "      <td>0.403034</td>\n",
              "      <td>-0.407193</td>\n",
              "      <td>0.095921</td>\n",
              "      <td>0.592941</td>\n",
              "      <td>-0.270533</td>\n",
              "      <td>0.817739</td>\n",
              "      <td>...</td>\n",
              "      <td>-0.009431</td>\n",
              "      <td>0.798278</td>\n",
              "      <td>-0.137458</td>\n",
              "      <td>0.141267</td>\n",
              "      <td>-0.206010</td>\n",
              "      <td>0.502292</td>\n",
              "      <td>0.219422</td>\n",
              "      <td>0.215153</td>\n",
              "      <td>69.99</td>\n",
              "      <td>0</td>\n",
              "    </tr>\n",
              "  </tbody>\n",
              "</table>\n",
              "<p>5 rows × 31 columns</p>\n",
              "</div>\n",
              "      <button class=\"colab-df-convert\" onclick=\"convertToInteractive('df-c86af794-d8d3-4574-a25e-10f47366cb2f')\"\n",
              "              title=\"Convert this dataframe to an interactive table.\"\n",
              "              style=\"display:none;\">\n",
              "        \n",
              "  <svg xmlns=\"http://www.w3.org/2000/svg\" height=\"24px\"viewBox=\"0 0 24 24\"\n",
              "       width=\"24px\">\n",
              "    <path d=\"M0 0h24v24H0V0z\" fill=\"none\"/>\n",
              "    <path d=\"M18.56 5.44l.94 2.06.94-2.06 2.06-.94-2.06-.94-.94-2.06-.94 2.06-2.06.94zm-11 1L8.5 8.5l.94-2.06 2.06-.94-2.06-.94L8.5 2.5l-.94 2.06-2.06.94zm10 10l.94 2.06.94-2.06 2.06-.94-2.06-.94-.94-2.06-.94 2.06-2.06.94z\"/><path d=\"M17.41 7.96l-1.37-1.37c-.4-.4-.92-.59-1.43-.59-.52 0-1.04.2-1.43.59L10.3 9.45l-7.72 7.72c-.78.78-.78 2.05 0 2.83L4 21.41c.39.39.9.59 1.41.59.51 0 1.02-.2 1.41-.59l7.78-7.78 2.81-2.81c.8-.78.8-2.07 0-2.86zM5.41 20L4 18.59l7.72-7.72 1.47 1.35L5.41 20z\"/>\n",
              "  </svg>\n",
              "      </button>\n",
              "      \n",
              "  <style>\n",
              "    .colab-df-container {\n",
              "      display:flex;\n",
              "      flex-wrap:wrap;\n",
              "      gap: 12px;\n",
              "    }\n",
              "\n",
              "    .colab-df-convert {\n",
              "      background-color: #E8F0FE;\n",
              "      border: none;\n",
              "      border-radius: 50%;\n",
              "      cursor: pointer;\n",
              "      display: none;\n",
              "      fill: #1967D2;\n",
              "      height: 32px;\n",
              "      padding: 0 0 0 0;\n",
              "      width: 32px;\n",
              "    }\n",
              "\n",
              "    .colab-df-convert:hover {\n",
              "      background-color: #E2EBFA;\n",
              "      box-shadow: 0px 1px 2px rgba(60, 64, 67, 0.3), 0px 1px 3px 1px rgba(60, 64, 67, 0.15);\n",
              "      fill: #174EA6;\n",
              "    }\n",
              "\n",
              "    [theme=dark] .colab-df-convert {\n",
              "      background-color: #3B4455;\n",
              "      fill: #D2E3FC;\n",
              "    }\n",
              "\n",
              "    [theme=dark] .colab-df-convert:hover {\n",
              "      background-color: #434B5C;\n",
              "      box-shadow: 0px 1px 3px 1px rgba(0, 0, 0, 0.15);\n",
              "      filter: drop-shadow(0px 1px 2px rgba(0, 0, 0, 0.3));\n",
              "      fill: #FFFFFF;\n",
              "    }\n",
              "  </style>\n",
              "\n",
              "      <script>\n",
              "        const buttonEl =\n",
              "          document.querySelector('#df-c86af794-d8d3-4574-a25e-10f47366cb2f button.colab-df-convert');\n",
              "        buttonEl.style.display =\n",
              "          google.colab.kernel.accessAllowed ? 'block' : 'none';\n",
              "\n",
              "        async function convertToInteractive(key) {\n",
              "          const element = document.querySelector('#df-c86af794-d8d3-4574-a25e-10f47366cb2f');\n",
              "          const dataTable =\n",
              "            await google.colab.kernel.invokeFunction('convertToInteractive',\n",
              "                                                     [key], {});\n",
              "          if (!dataTable) return;\n",
              "\n",
              "          const docLinkHtml = 'Like what you see? Visit the ' +\n",
              "            '<a target=\"_blank\" href=https://colab.research.google.com/notebooks/data_table.ipynb>data table notebook</a>'\n",
              "            + ' to learn more about interactive tables.';\n",
              "          element.innerHTML = '';\n",
              "          dataTable['output_type'] = 'display_data';\n",
              "          await google.colab.output.renderOutput(dataTable, element);\n",
              "          const docLink = document.createElement('div');\n",
              "          docLink.innerHTML = docLinkHtml;\n",
              "          element.appendChild(docLink);\n",
              "        }\n",
              "      </script>\n",
              "    </div>\n",
              "  </div>\n",
              "  "
            ]
          },
          "metadata": {},
          "execution_count": 6
        }
      ]
    },
    {
      "cell_type": "code",
      "source": [
        "cc_dataset.shape"
      ],
      "metadata": {
        "colab": {
          "base_uri": "https://localhost:8080/"
        },
        "id": "zymQ52zDXq65",
        "outputId": "4acaf736-b2cf-4a66-a253-a3c43eae2c85"
      },
      "execution_count": null,
      "outputs": [
        {
          "output_type": "execute_result",
          "data": {
            "text/plain": [
              "(284807, 31)"
            ]
          },
          "metadata": {},
          "execution_count": 7
        }
      ]
    },
    {
      "cell_type": "code",
      "source": [
        "cc_dataset['Class'].value_counts()"
      ],
      "metadata": {
        "colab": {
          "base_uri": "https://localhost:8080/"
        },
        "id": "laX8evo3XVPe",
        "outputId": "7ec87b98-85dd-44e1-80ce-7ffadc9709ad"
      },
      "execution_count": null,
      "outputs": [
        {
          "output_type": "execute_result",
          "data": {
            "text/plain": [
              "0    284315\n",
              "1       492\n",
              "Name: Class, dtype: int64"
            ]
          },
          "metadata": {},
          "execution_count": 8
        }
      ]
    },
    {
      "cell_type": "markdown",
      "source": [
        "The above stats indicates that the datset is highly imbalanced"
      ],
      "metadata": {
        "id": "jo7s85sqXu2b"
      }
    },
    {
      "cell_type": "code",
      "source": [
        "# Seprating the data for analysis\n",
        "legit = cc_dataset[cc_dataset.Class == 0]\n",
        "fraud = cc_dataset[cc_dataset.Class == 1]"
      ],
      "metadata": {
        "id": "X1Ojwks0XlQT"
      },
      "execution_count": null,
      "outputs": []
    },
    {
      "cell_type": "code",
      "source": [
        "print(legit.shape)"
      ],
      "metadata": {
        "id": "nMAo2Zo-zZOq",
        "colab": {
          "base_uri": "https://localhost:8080/"
        },
        "outputId": "581cbf5f-98fb-460d-ff0d-54a2139fdf4b"
      },
      "execution_count": null,
      "outputs": [
        {
          "output_type": "stream",
          "name": "stdout",
          "text": [
            "(284315, 31)\n"
          ]
        }
      ]
    },
    {
      "cell_type": "code",
      "source": [
        "print(fraud.shape)"
      ],
      "metadata": {
        "colab": {
          "base_uri": "https://localhost:8080/"
        },
        "id": "rioGZk9h1JwI",
        "outputId": "ca112e08-90e0-40d2-f02f-828c50fcb784"
      },
      "execution_count": null,
      "outputs": [
        {
          "output_type": "stream",
          "name": "stdout",
          "text": [
            "(492, 31)\n"
          ]
        }
      ]
    },
    {
      "cell_type": "code",
      "source": [
        "legit['Amount'].describe()"
      ],
      "metadata": {
        "colab": {
          "base_uri": "https://localhost:8080/"
        },
        "id": "nUJ9UNMx1PKx",
        "outputId": "9fd27133-4b9f-4796-d6a9-fa6a83eb3f8b"
      },
      "execution_count": null,
      "outputs": [
        {
          "output_type": "execute_result",
          "data": {
            "text/plain": [
              "count    284315.000000\n",
              "mean         88.291022\n",
              "std         250.105092\n",
              "min           0.000000\n",
              "25%           5.650000\n",
              "50%          22.000000\n",
              "75%          77.050000\n",
              "max       25691.160000\n",
              "Name: Amount, dtype: float64"
            ]
          },
          "metadata": {},
          "execution_count": 15
        }
      ]
    },
    {
      "cell_type": "code",
      "source": [
        "fraud.Amount.describe()"
      ],
      "metadata": {
        "colab": {
          "base_uri": "https://localhost:8080/"
        },
        "id": "6gjhyHow1X9o",
        "outputId": "fdd6ea38-18cd-4fe7-e1c7-527ae0af49fb"
      },
      "execution_count": null,
      "outputs": [
        {
          "output_type": "execute_result",
          "data": {
            "text/plain": [
              "count     492.000000\n",
              "mean      122.211321\n",
              "std       256.683288\n",
              "min         0.000000\n",
              "25%         1.000000\n",
              "50%         9.250000\n",
              "75%       105.890000\n",
              "max      2125.870000\n",
              "Name: Amount, dtype: float64"
            ]
          },
          "metadata": {},
          "execution_count": 18
        }
      ]
    },
    {
      "cell_type": "markdown",
      "source": [
        "Under Sampling"
      ],
      "metadata": {
        "id": "ES3OLcaJ1rrI"
      }
    },
    {
      "cell_type": "code",
      "source": [
        "# Building a sample dataset from original dataset\n",
        "# Sample dataset will be of legit transactions which will have values equal to fraudelent transactions"
      ],
      "metadata": {
        "id": "r_b84zWc1byk"
      },
      "execution_count": null,
      "outputs": []
    },
    {
      "cell_type": "code",
      "source": [
        "legit_sample = legit.sample(n=492)"
      ],
      "metadata": {
        "id": "iGotfOqT1_jm"
      },
      "execution_count": null,
      "outputs": []
    },
    {
      "cell_type": "markdown",
      "source": [
        "Concatenating the two Data Frames"
      ],
      "metadata": {
        "id": "liNDtJCl2kwG"
      }
    },
    {
      "cell_type": "code",
      "source": [
        "new_dataset = pd.concat([legit_sample, fraud], axis=0)\n",
        "\n",
        "# The frames will be added row wise that is axis=0"
      ],
      "metadata": {
        "id": "L_3I0N5f2Rin"
      },
      "execution_count": null,
      "outputs": []
    },
    {
      "cell_type": "code",
      "source": [
        "new_dataset.head()"
      ],
      "metadata": {
        "colab": {
          "base_uri": "https://localhost:8080/",
          "height": 300
        },
        "id": "w8UWbntW21oE",
        "outputId": "390e30d0-d141-46fe-cd5d-fcf1a6a3c150"
      },
      "execution_count": null,
      "outputs": [
        {
          "output_type": "execute_result",
          "data": {
            "text/plain": [
              "            Time         V1         V2        V3        V4        V5  \\\n",
              "178938  123850.0   1.816752  -0.283535 -1.962424  0.447233  0.162073   \n",
              "236503  148839.0   2.112102  -0.052044 -1.349250  0.251715  0.211779   \n",
              "247954  153743.0  -1.336058   0.312551  2.495012 -1.138258 -1.603778   \n",
              "203636  134898.0   2.170718  -0.299227 -1.896208 -0.313972 -0.003933   \n",
              "77814    57225.0 -22.435671 -21.510079 -3.711944  6.479684  2.177843   \n",
              "\n",
              "              V6        V7        V8        V9  ...       V21       V22  \\\n",
              "178938 -1.002850  0.243470 -0.197998  0.500635  ...  0.282870  0.648270   \n",
              "236503 -0.813731  0.183281 -0.302346  0.557713  ... -0.332637 -0.809191   \n",
              "247954  0.113928 -0.936666  0.364849  0.128153  ...  0.185246  0.726227   \n",
              "203636 -1.642849  0.479411 -0.671197 -1.027140  ... -0.222421 -0.029899   \n",
              "77814  -0.276111  3.935704 -4.871645  5.305156  ... -6.245874  1.770421   \n",
              "\n",
              "             V23       V24       V25       V26       V27        V28  Amount  \\\n",
              "178938 -0.159720 -0.422931  0.188231 -0.109656 -0.034984  -0.027042  117.00   \n",
              "236503  0.252759 -0.649112 -0.198992  0.238152 -0.070195  -0.066590    1.29   \n",
              "247954 -0.303867  0.396610  0.288858 -0.006238 -0.484031  -0.132803    1.00   \n",
              "203636  0.038487  0.065063  0.339609 -0.174164 -0.025948  -0.058307   29.97   \n",
              "77814   6.146762  0.369772  3.119632  1.659289 -4.327341  15.374949  318.25   \n",
              "\n",
              "        Class  \n",
              "178938      0  \n",
              "236503      0  \n",
              "247954      0  \n",
              "203636      0  \n",
              "77814       0  \n",
              "\n",
              "[5 rows x 31 columns]"
            ],
            "text/html": [
              "\n",
              "  <div id=\"df-29ecb62e-374e-468a-adb0-75470874a5c9\">\n",
              "    <div class=\"colab-df-container\">\n",
              "      <div>\n",
              "<style scoped>\n",
              "    .dataframe tbody tr th:only-of-type {\n",
              "        vertical-align: middle;\n",
              "    }\n",
              "\n",
              "    .dataframe tbody tr th {\n",
              "        vertical-align: top;\n",
              "    }\n",
              "\n",
              "    .dataframe thead th {\n",
              "        text-align: right;\n",
              "    }\n",
              "</style>\n",
              "<table border=\"1\" class=\"dataframe\">\n",
              "  <thead>\n",
              "    <tr style=\"text-align: right;\">\n",
              "      <th></th>\n",
              "      <th>Time</th>\n",
              "      <th>V1</th>\n",
              "      <th>V2</th>\n",
              "      <th>V3</th>\n",
              "      <th>V4</th>\n",
              "      <th>V5</th>\n",
              "      <th>V6</th>\n",
              "      <th>V7</th>\n",
              "      <th>V8</th>\n",
              "      <th>V9</th>\n",
              "      <th>...</th>\n",
              "      <th>V21</th>\n",
              "      <th>V22</th>\n",
              "      <th>V23</th>\n",
              "      <th>V24</th>\n",
              "      <th>V25</th>\n",
              "      <th>V26</th>\n",
              "      <th>V27</th>\n",
              "      <th>V28</th>\n",
              "      <th>Amount</th>\n",
              "      <th>Class</th>\n",
              "    </tr>\n",
              "  </thead>\n",
              "  <tbody>\n",
              "    <tr>\n",
              "      <th>178938</th>\n",
              "      <td>123850.0</td>\n",
              "      <td>1.816752</td>\n",
              "      <td>-0.283535</td>\n",
              "      <td>-1.962424</td>\n",
              "      <td>0.447233</td>\n",
              "      <td>0.162073</td>\n",
              "      <td>-1.002850</td>\n",
              "      <td>0.243470</td>\n",
              "      <td>-0.197998</td>\n",
              "      <td>0.500635</td>\n",
              "      <td>...</td>\n",
              "      <td>0.282870</td>\n",
              "      <td>0.648270</td>\n",
              "      <td>-0.159720</td>\n",
              "      <td>-0.422931</td>\n",
              "      <td>0.188231</td>\n",
              "      <td>-0.109656</td>\n",
              "      <td>-0.034984</td>\n",
              "      <td>-0.027042</td>\n",
              "      <td>117.00</td>\n",
              "      <td>0</td>\n",
              "    </tr>\n",
              "    <tr>\n",
              "      <th>236503</th>\n",
              "      <td>148839.0</td>\n",
              "      <td>2.112102</td>\n",
              "      <td>-0.052044</td>\n",
              "      <td>-1.349250</td>\n",
              "      <td>0.251715</td>\n",
              "      <td>0.211779</td>\n",
              "      <td>-0.813731</td>\n",
              "      <td>0.183281</td>\n",
              "      <td>-0.302346</td>\n",
              "      <td>0.557713</td>\n",
              "      <td>...</td>\n",
              "      <td>-0.332637</td>\n",
              "      <td>-0.809191</td>\n",
              "      <td>0.252759</td>\n",
              "      <td>-0.649112</td>\n",
              "      <td>-0.198992</td>\n",
              "      <td>0.238152</td>\n",
              "      <td>-0.070195</td>\n",
              "      <td>-0.066590</td>\n",
              "      <td>1.29</td>\n",
              "      <td>0</td>\n",
              "    </tr>\n",
              "    <tr>\n",
              "      <th>247954</th>\n",
              "      <td>153743.0</td>\n",
              "      <td>-1.336058</td>\n",
              "      <td>0.312551</td>\n",
              "      <td>2.495012</td>\n",
              "      <td>-1.138258</td>\n",
              "      <td>-1.603778</td>\n",
              "      <td>0.113928</td>\n",
              "      <td>-0.936666</td>\n",
              "      <td>0.364849</td>\n",
              "      <td>0.128153</td>\n",
              "      <td>...</td>\n",
              "      <td>0.185246</td>\n",
              "      <td>0.726227</td>\n",
              "      <td>-0.303867</td>\n",
              "      <td>0.396610</td>\n",
              "      <td>0.288858</td>\n",
              "      <td>-0.006238</td>\n",
              "      <td>-0.484031</td>\n",
              "      <td>-0.132803</td>\n",
              "      <td>1.00</td>\n",
              "      <td>0</td>\n",
              "    </tr>\n",
              "    <tr>\n",
              "      <th>203636</th>\n",
              "      <td>134898.0</td>\n",
              "      <td>2.170718</td>\n",
              "      <td>-0.299227</td>\n",
              "      <td>-1.896208</td>\n",
              "      <td>-0.313972</td>\n",
              "      <td>-0.003933</td>\n",
              "      <td>-1.642849</td>\n",
              "      <td>0.479411</td>\n",
              "      <td>-0.671197</td>\n",
              "      <td>-1.027140</td>\n",
              "      <td>...</td>\n",
              "      <td>-0.222421</td>\n",
              "      <td>-0.029899</td>\n",
              "      <td>0.038487</td>\n",
              "      <td>0.065063</td>\n",
              "      <td>0.339609</td>\n",
              "      <td>-0.174164</td>\n",
              "      <td>-0.025948</td>\n",
              "      <td>-0.058307</td>\n",
              "      <td>29.97</td>\n",
              "      <td>0</td>\n",
              "    </tr>\n",
              "    <tr>\n",
              "      <th>77814</th>\n",
              "      <td>57225.0</td>\n",
              "      <td>-22.435671</td>\n",
              "      <td>-21.510079</td>\n",
              "      <td>-3.711944</td>\n",
              "      <td>6.479684</td>\n",
              "      <td>2.177843</td>\n",
              "      <td>-0.276111</td>\n",
              "      <td>3.935704</td>\n",
              "      <td>-4.871645</td>\n",
              "      <td>5.305156</td>\n",
              "      <td>...</td>\n",
              "      <td>-6.245874</td>\n",
              "      <td>1.770421</td>\n",
              "      <td>6.146762</td>\n",
              "      <td>0.369772</td>\n",
              "      <td>3.119632</td>\n",
              "      <td>1.659289</td>\n",
              "      <td>-4.327341</td>\n",
              "      <td>15.374949</td>\n",
              "      <td>318.25</td>\n",
              "      <td>0</td>\n",
              "    </tr>\n",
              "  </tbody>\n",
              "</table>\n",
              "<p>5 rows × 31 columns</p>\n",
              "</div>\n",
              "      <button class=\"colab-df-convert\" onclick=\"convertToInteractive('df-29ecb62e-374e-468a-adb0-75470874a5c9')\"\n",
              "              title=\"Convert this dataframe to an interactive table.\"\n",
              "              style=\"display:none;\">\n",
              "        \n",
              "  <svg xmlns=\"http://www.w3.org/2000/svg\" height=\"24px\"viewBox=\"0 0 24 24\"\n",
              "       width=\"24px\">\n",
              "    <path d=\"M0 0h24v24H0V0z\" fill=\"none\"/>\n",
              "    <path d=\"M18.56 5.44l.94 2.06.94-2.06 2.06-.94-2.06-.94-.94-2.06-.94 2.06-2.06.94zm-11 1L8.5 8.5l.94-2.06 2.06-.94-2.06-.94L8.5 2.5l-.94 2.06-2.06.94zm10 10l.94 2.06.94-2.06 2.06-.94-2.06-.94-.94-2.06-.94 2.06-2.06.94z\"/><path d=\"M17.41 7.96l-1.37-1.37c-.4-.4-.92-.59-1.43-.59-.52 0-1.04.2-1.43.59L10.3 9.45l-7.72 7.72c-.78.78-.78 2.05 0 2.83L4 21.41c.39.39.9.59 1.41.59.51 0 1.02-.2 1.41-.59l7.78-7.78 2.81-2.81c.8-.78.8-2.07 0-2.86zM5.41 20L4 18.59l7.72-7.72 1.47 1.35L5.41 20z\"/>\n",
              "  </svg>\n",
              "      </button>\n",
              "      \n",
              "  <style>\n",
              "    .colab-df-container {\n",
              "      display:flex;\n",
              "      flex-wrap:wrap;\n",
              "      gap: 12px;\n",
              "    }\n",
              "\n",
              "    .colab-df-convert {\n",
              "      background-color: #E8F0FE;\n",
              "      border: none;\n",
              "      border-radius: 50%;\n",
              "      cursor: pointer;\n",
              "      display: none;\n",
              "      fill: #1967D2;\n",
              "      height: 32px;\n",
              "      padding: 0 0 0 0;\n",
              "      width: 32px;\n",
              "    }\n",
              "\n",
              "    .colab-df-convert:hover {\n",
              "      background-color: #E2EBFA;\n",
              "      box-shadow: 0px 1px 2px rgba(60, 64, 67, 0.3), 0px 1px 3px 1px rgba(60, 64, 67, 0.15);\n",
              "      fill: #174EA6;\n",
              "    }\n",
              "\n",
              "    [theme=dark] .colab-df-convert {\n",
              "      background-color: #3B4455;\n",
              "      fill: #D2E3FC;\n",
              "    }\n",
              "\n",
              "    [theme=dark] .colab-df-convert:hover {\n",
              "      background-color: #434B5C;\n",
              "      box-shadow: 0px 1px 3px 1px rgba(0, 0, 0, 0.15);\n",
              "      filter: drop-shadow(0px 1px 2px rgba(0, 0, 0, 0.3));\n",
              "      fill: #FFFFFF;\n",
              "    }\n",
              "  </style>\n",
              "\n",
              "      <script>\n",
              "        const buttonEl =\n",
              "          document.querySelector('#df-29ecb62e-374e-468a-adb0-75470874a5c9 button.colab-df-convert');\n",
              "        buttonEl.style.display =\n",
              "          google.colab.kernel.accessAllowed ? 'block' : 'none';\n",
              "\n",
              "        async function convertToInteractive(key) {\n",
              "          const element = document.querySelector('#df-29ecb62e-374e-468a-adb0-75470874a5c9');\n",
              "          const dataTable =\n",
              "            await google.colab.kernel.invokeFunction('convertToInteractive',\n",
              "                                                     [key], {});\n",
              "          if (!dataTable) return;\n",
              "\n",
              "          const docLinkHtml = 'Like what you see? Visit the ' +\n",
              "            '<a target=\"_blank\" href=https://colab.research.google.com/notebooks/data_table.ipynb>data table notebook</a>'\n",
              "            + ' to learn more about interactive tables.';\n",
              "          element.innerHTML = '';\n",
              "          dataTable['output_type'] = 'display_data';\n",
              "          await google.colab.output.renderOutput(dataTable, element);\n",
              "          const docLink = document.createElement('div');\n",
              "          docLink.innerHTML = docLinkHtml;\n",
              "          element.appendChild(docLink);\n",
              "        }\n",
              "      </script>\n",
              "    </div>\n",
              "  </div>\n",
              "  "
            ]
          },
          "metadata": {},
          "execution_count": 28
        }
      ]
    },
    {
      "cell_type": "code",
      "source": [
        "new_dataset.shape"
      ],
      "metadata": {
        "colab": {
          "base_uri": "https://localhost:8080/"
        },
        "id": "hgtw5CvP29D7",
        "outputId": "f2c9b297-8887-4bd7-ddda-f3ca20c55921"
      },
      "execution_count": null,
      "outputs": [
        {
          "output_type": "execute_result",
          "data": {
            "text/plain": [
              "(984, 31)"
            ]
          },
          "metadata": {},
          "execution_count": 30
        }
      ]
    },
    {
      "cell_type": "code",
      "source": [
        "new_dataset['Class'].value_counts()"
      ],
      "metadata": {
        "colab": {
          "base_uri": "https://localhost:8080/"
        },
        "id": "PV_di3jE2-yd",
        "outputId": "82d81eb3-4b7b-425f-e4d0-4d20da9e20ea"
      },
      "execution_count": null,
      "outputs": [
        {
          "output_type": "execute_result",
          "data": {
            "text/plain": [
              "0    492\n",
              "1    492\n",
              "Name: Class, dtype: int64"
            ]
          },
          "metadata": {},
          "execution_count": 31
        }
      ]
    },
    {
      "cell_type": "markdown",
      "source": [
        "Splitting the data into features and target/label"
      ],
      "metadata": {
        "id": "1Nw8tGdo3OVM"
      }
    },
    {
      "cell_type": "code",
      "source": [
        "X = new_dataset.drop('Class', axis=1)\n",
        "Y = new_dataset['Class']"
      ],
      "metadata": {
        "id": "4Ha-kOtq3J58"
      },
      "execution_count": null,
      "outputs": []
    },
    {
      "cell_type": "code",
      "source": [
        "print(X)\n",
        "print(Y)"
      ],
      "metadata": {
        "colab": {
          "base_uri": "https://localhost:8080/"
        },
        "id": "7QvNRWO43rsi",
        "outputId": "b2585762-cf9c-4092-b6ec-b60f1603eb66"
      },
      "execution_count": null,
      "outputs": [
        {
          "output_type": "stream",
          "name": "stdout",
          "text": [
            "            Time         V1         V2        V3        V4        V5  \\\n",
            "178938  123850.0   1.816752  -0.283535 -1.962424  0.447233  0.162073   \n",
            "236503  148839.0   2.112102  -0.052044 -1.349250  0.251715  0.211779   \n",
            "247954  153743.0  -1.336058   0.312551  2.495012 -1.138258 -1.603778   \n",
            "203636  134898.0   2.170718  -0.299227 -1.896208 -0.313972 -0.003933   \n",
            "77814    57225.0 -22.435671 -21.510079 -3.711944  6.479684  2.177843   \n",
            "...          ...        ...        ...       ...       ...       ...   \n",
            "279863  169142.0  -1.927883   1.125653 -4.518331  1.749293 -1.566487   \n",
            "280143  169347.0   1.378559   1.289381 -5.004247  1.411850  0.442581   \n",
            "280149  169351.0  -0.676143   1.126366 -2.213700  0.468308 -1.120541   \n",
            "281144  169966.0  -3.113832   0.585864 -5.399730  1.817092 -0.840618   \n",
            "281674  170348.0   1.991976   0.158476 -2.583441  0.408670  1.151147   \n",
            "\n",
            "              V6        V7        V8        V9  ...        V20       V21  \\\n",
            "178938 -1.002850  0.243470 -0.197998  0.500635  ...  -0.021820  0.282870   \n",
            "236503 -0.813731  0.183281 -0.302346  0.557713  ...  -0.189826 -0.332637   \n",
            "247954  0.113928 -0.936666  0.364849  0.128153  ...   0.221498  0.185246   \n",
            "203636 -1.642849  0.479411 -0.671197 -1.027140  ...  -0.538828 -0.222421   \n",
            "77814  -0.276111  3.935704 -4.871645  5.305156  ... -18.265480 -6.245874   \n",
            "...          ...       ...       ...       ...  ...        ...       ...   \n",
            "279863 -2.010494 -0.882850  0.697211 -2.064945  ...   1.252967  0.778584   \n",
            "280143 -1.326536 -1.413170  0.248525 -1.127396  ...   0.226138  0.370612   \n",
            "280149 -0.003346 -2.234739  1.210158 -0.652250  ...   0.247968  0.751826   \n",
            "281144 -2.943548 -2.208002  1.058733 -1.632333  ...   0.306271  0.583276   \n",
            "281674 -0.096695  0.223050 -0.068384  0.577829  ...  -0.017652 -0.164350   \n",
            "\n",
            "             V22       V23       V24       V25       V26       V27        V28  \\\n",
            "178938  0.648270 -0.159720 -0.422931  0.188231 -0.109656 -0.034984  -0.027042   \n",
            "236503 -0.809191  0.252759 -0.649112 -0.198992  0.238152 -0.070195  -0.066590   \n",
            "247954  0.726227 -0.303867  0.396610  0.288858 -0.006238 -0.484031  -0.132803   \n",
            "203636 -0.029899  0.038487  0.065063  0.339609 -0.174164 -0.025948  -0.058307   \n",
            "77814   1.770421  6.146762  0.369772  3.119632  1.659289 -4.327341  15.374949   \n",
            "...          ...       ...       ...       ...       ...       ...        ...   \n",
            "279863 -0.319189  0.639419 -0.294885  0.537503  0.788395  0.292680   0.147968   \n",
            "280143  0.028234 -0.145640 -0.081049  0.521875  0.739467  0.389152   0.186637   \n",
            "280149  0.834108  0.190944  0.032070 -0.739695  0.471111  0.385107   0.194361   \n",
            "281144 -0.269209 -0.456108 -0.183659 -0.328168  0.606116  0.884876  -0.253700   \n",
            "281674 -0.295135 -0.072173 -0.450261  0.313267 -0.289617  0.002988  -0.015309   \n",
            "\n",
            "        Amount  \n",
            "178938  117.00  \n",
            "236503    1.29  \n",
            "247954    1.00  \n",
            "203636   29.97  \n",
            "77814   318.25  \n",
            "...        ...  \n",
            "279863  390.00  \n",
            "280143    0.76  \n",
            "280149   77.89  \n",
            "281144  245.00  \n",
            "281674   42.53  \n",
            "\n",
            "[984 rows x 30 columns]\n",
            "178938    0\n",
            "236503    0\n",
            "247954    0\n",
            "203636    0\n",
            "77814     0\n",
            "         ..\n",
            "279863    1\n",
            "280143    1\n",
            "280149    1\n",
            "281144    1\n",
            "281674    1\n",
            "Name: Class, Length: 984, dtype: int64\n"
          ]
        }
      ]
    },
    {
      "cell_type": "markdown",
      "source": [
        "Train and Test data"
      ],
      "metadata": {
        "id": "SpadfbNX3wR4"
      }
    },
    {
      "cell_type": "code",
      "source": [
        "X_train, X_test, Y_train, Y_test = train_test_split(X, Y, test_size=0.2, stratify=Y, random_state=2)"
      ],
      "metadata": {
        "id": "in0S4qYx3uXG"
      },
      "execution_count": null,
      "outputs": []
    },
    {
      "cell_type": "code",
      "source": [
        "print(X.shape, X_train.shape, X_test.shape)"
      ],
      "metadata": {
        "colab": {
          "base_uri": "https://localhost:8080/"
        },
        "id": "mahXb4sL39Fs",
        "outputId": "89fb544d-3452-44c5-9a73-7d40528f706e"
      },
      "execution_count": null,
      "outputs": [
        {
          "output_type": "stream",
          "name": "stdout",
          "text": [
            "(984, 30) (787, 30) (197, 30)\n"
          ]
        }
      ]
    },
    {
      "cell_type": "markdown",
      "source": [
        "Model Training\n",
        "\n",
        "Logistic Resgression"
      ],
      "metadata": {
        "id": "AWzepJxZ4Ti2"
      }
    },
    {
      "cell_type": "code",
      "source": [
        "model = LogisticRegression()"
      ],
      "metadata": {
        "id": "8kEyfG1x4Ddc"
      },
      "execution_count": null,
      "outputs": []
    },
    {
      "cell_type": "code",
      "source": [
        "model.fit(X_train, Y_train)"
      ],
      "metadata": {
        "colab": {
          "base_uri": "https://localhost:8080/"
        },
        "id": "uQow64B94JEB",
        "outputId": "beae5606-45e4-4c4f-b364-6fd18410404f"
      },
      "execution_count": null,
      "outputs": [
        {
          "output_type": "stream",
          "name": "stderr",
          "text": [
            "/usr/local/lib/python3.7/dist-packages/sklearn/linear_model/_logistic.py:818: ConvergenceWarning: lbfgs failed to converge (status=1):\n",
            "STOP: TOTAL NO. of ITERATIONS REACHED LIMIT.\n",
            "\n",
            "Increase the number of iterations (max_iter) or scale the data as shown in:\n",
            "    https://scikit-learn.org/stable/modules/preprocessing.html\n",
            "Please also refer to the documentation for alternative solver options:\n",
            "    https://scikit-learn.org/stable/modules/linear_model.html#logistic-regression\n",
            "  extra_warning_msg=_LOGISTIC_SOLVER_CONVERGENCE_MSG,\n"
          ]
        },
        {
          "output_type": "execute_result",
          "data": {
            "text/plain": [
              "LogisticRegression()"
            ]
          },
          "metadata": {},
          "execution_count": 42
        }
      ]
    },
    {
      "cell_type": "markdown",
      "source": [
        "Model Evaluation"
      ],
      "metadata": {
        "id": "j2HKQK6x4rNR"
      }
    },
    {
      "cell_type": "code",
      "source": [
        "# Accuracy score of Training data\n",
        "\n",
        "X_train_prediction = model.predict(X_train)\n",
        "\n",
        "training_data_accuracy = accuracy_score(Y_train, X_train_prediction)"
      ],
      "metadata": {
        "id": "BZkr4wQS4p9p"
      },
      "execution_count": null,
      "outputs": []
    },
    {
      "cell_type": "code",
      "source": [
        "print(\"Accuracy on training data is: \",training_data_accuracy)"
      ],
      "metadata": {
        "colab": {
          "base_uri": "https://localhost:8080/"
        },
        "id": "WxzxHFHj5FEn",
        "outputId": "cc62a087-3fe4-4f47-d5b9-c94c3029f9b2"
      },
      "execution_count": null,
      "outputs": [
        {
          "output_type": "stream",
          "name": "stdout",
          "text": [
            "Accuracy on training data is:  0.9428208386277002\n"
          ]
        }
      ]
    },
    {
      "cell_type": "code",
      "source": [
        "# Accuracy score of Test data\n",
        "\n",
        "X_test_prediction = model.predict(X_test)\n",
        "\n",
        "test_data_accuracy = accuracy_score(Y_test, X_test_prediction)"
      ],
      "metadata": {
        "id": "NaI8eq2M5LvL"
      },
      "execution_count": null,
      "outputs": []
    },
    {
      "cell_type": "code",
      "source": [
        "print(\"Accuracy on test data is: \",test_data_accuracy)"
      ],
      "metadata": {
        "colab": {
          "base_uri": "https://localhost:8080/"
        },
        "id": "tDEaAGbC5T4I",
        "outputId": "51e09a61-36a8-4d08-875d-5ff2de9454fc"
      },
      "execution_count": null,
      "outputs": [
        {
          "output_type": "stream",
          "name": "stdout",
          "text": [
            "Accuracy on test data is:  0.9238578680203046\n"
          ]
        }
      ]
    },
    {
      "cell_type": "markdown",
      "source": [
        "Prediction Model"
      ],
      "metadata": {
        "id": "4rgVIHx35ZCQ"
      }
    },
    {
      "cell_type": "code",
      "source": [
        "input_data = (123525,-5.90492080575337,4.43991138307409,-8.63180221299529,7.78868440738042,-4.98957980058454,-1.20014396478769,-7.6740599401754,4.12576101681016,-5.31577802250603,-4.89115620289902,4.22041859352387,-6.40830067684822,1.32800326739361,-5.853545070898,-0.928337066900246,-7.08579817642873,-12.62385610867,-4.74522383798077,2.79789150183086,-0.505607961764415,1.77502979034156,1.26644115239936,-0.199409588840669,0.0149600028407991,-1.90822653976519e-05,0.544209892335915,-1.16756581297999,-1.20635432583345,45.51)"
      ],
      "metadata": {
        "id": "BTsc64zC5X2A"
      },
      "execution_count": null,
      "outputs": []
    },
    {
      "cell_type": "code",
      "source": [
        "input_nparray = np.asarray(input_data)\n",
        "\n",
        "reshaped_array = input_nparray.reshape(1, -1)\n",
        "\n",
        "prediction = model.predict(reshaped_array)\n",
        "print(prediction)\n",
        "\n",
        "if prediction[0] == 0:\n",
        "  print(\"Transaction is Legit\")\n",
        "else:\n",
        "  print(\"Transaction is Fraud\")"
      ],
      "metadata": {
        "colab": {
          "base_uri": "https://localhost:8080/"
        },
        "id": "zLb0Nn7Y5dcx",
        "outputId": "a64357c4-1fae-490f-d74e-92a38f715603"
      },
      "execution_count": null,
      "outputs": [
        {
          "output_type": "stream",
          "name": "stdout",
          "text": [
            "[1]\n",
            "Transaction is Fraud\n"
          ]
        },
        {
          "output_type": "stream",
          "name": "stderr",
          "text": [
            "/usr/local/lib/python3.7/dist-packages/sklearn/base.py:451: UserWarning: X does not have valid feature names, but LogisticRegression was fitted with feature names\n",
            "  \"X does not have valid feature names, but\"\n"
          ]
        }
      ]
    },
    {
      "cell_type": "code",
      "source": [
        ""
      ],
      "metadata": {
        "id": "XtUmgODh66x4"
      },
      "execution_count": null,
      "outputs": []
    }
  ]
}